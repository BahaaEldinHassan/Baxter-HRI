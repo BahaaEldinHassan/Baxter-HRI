{
  "nbformat": 4,
  "nbformat_minor": 0,
  "metadata": {
    "colab": {
      "provenance": []
    },
    "kernelspec": {
      "name": "python3",
      "display_name": "Python 3"
    },
    "language_info": {
      "name": "python"
    }
  },
  "cells": [
    {
      "cell_type": "code",
      "source": [
        "import cv2\n",
        "import numpy as np\n",
        "from tensorflow.keras.preprocessing.image import ImageDataGenerator\n",
        "import os\n",
        "import time\n",
        "import glob\n",
        "class HandGesturePreprocessor:\n",
        "    def __init__(self, target_size=(224, 224), normalization=True, augmentation_params=None, save_dir=None, use_edge_detection=False, enable_augmentation=False):\n",
        "        \"\"\"\n",
        "        Initialize the preprocessor.\n",
        "        :param target_size: Tuple, the target size of the images (width, height).\n",
        "        :param normalization: Bool, whether to normalize the images to the range [0, 1].\n",
        "        :param augmentation_params: Dict, parameters for data augmentation. If None, default params are used.\n",
        "        :param save_dir: String, directory to save augmented images. If None, images are not saved.\n",
        "        :param use_edge_detection: Bool, whether to apply edge detection in the preprocessing pipeline.\n",
        "        :param enable_augmentation: Bool, whether to enable data augmentation.\n",
        "        \"\"\"\n",
        "        self.target_size = target_size\n",
        "        self.normalization = normalization\n",
        "        self.save_dir = save_dir\n",
        "        self.use_edge_detection = use_edge_detection\n",
        "        self.enable_augmentation = enable_augmentation\n",
        "        if augmentation_params is None:\n",
        "            self.augmentation_params = {\n",
        "                'rotation_range': 20,\n",
        "                'width_shift_range': 0.2,\n",
        "                'height_shift_range': 0.2,\n",
        "                'shear_range': 0.2,\n",
        "                'zoom_range': 0.2,\n",
        "                'horizontal_flip': True,\n",
        "                'fill_mode': 'nearest'\n",
        "            }\n",
        "        else:\n",
        "            self.augmentation_params = augmentation_params\n",
        "        self.data_gen = ImageDataGenerator(**self.augmentation_params)\n",
        "\n",
        "    def preprocess(self, image):\n",
        "        \"\"\"\n",
        "        Preprocess the image: resize, optionally apply edge detection, and normalize.\n",
        "        :param image: Numpy array, the image to preprocess.\n",
        "        :return: Preprocessed image with 4 dimensions, ready for augmentation.\n",
        "        \"\"\"\n",
        "        # Convert to RGB\n",
        "        image = cv2.cvtColor(image, cv2.COLOR_BGR2RGB)\n",
        "\n",
        "        # Resize image\n",
        "        image_resized = cv2.resize(image, self.target_size)\n",
        "\n",
        "        # Optionally apply edge detection\n",
        "        if self.use_edge_detection:\n",
        "            gray = cv2.cvtColor(image_resized, cv2.COLOR_RGB2GRAY)\n",
        "            edges = cv2.Canny(gray, 100, 200)\n",
        "            image_processed = np.expand_dims(edges, axis=-1)  # Add channel dimension\n",
        "        else:\n",
        "            image_processed = image_resized\n",
        "\n",
        "        # Normalize if required\n",
        "        if self.normalization:\n",
        "            image_processed = image_processed.astype('float32') / 255.0\n",
        "\n",
        "        # Ensure image has 4 dimensions (1, height, width, channels)\n",
        "        if image_processed.ndim == 3:\n",
        "            image_processed = np.expand_dims(image_processed, axis=0)\n",
        "\n",
        "        return image_processed\n",
        "\n",
        "    def augment_and_save(self, image, augmentations=5):\n",
        "        \"\"\"\n",
        "        Apply data augmentation and save the augmented images.\n",
        "        :param image: 4D Numpy array, the preprocessed image for augmentation.\n",
        "        :param augmentations: Int, number of augmented images to generate.\n",
        "        \"\"\"\n",
        "        if self.enable_augmentation:\n",
        "            for _ in range(augmentations):\n",
        "                it = self.data_gen.flow(image, batch_size=1, save_to_dir=self.save_dir, save_prefix='aug', save_format='jpeg')\n",
        "                next(it)\n",
        "        else:\n",
        "            print(\"Augmentation is disabled. Skipping augmentation step.\")\n",
        "\n",
        "    def augment_and_save_folder(self, folder_path, augmentations=5):\n",
        "        \"\"\"\n",
        "        Apply data augmentation and save for all images in a folder.\n",
        "        :param folder_path: String, the path to the folder containing images.\n",
        "        :param augmentations: Int, number of augmented images to generate per original image.\n",
        "        \"\"\"\n",
        "        # Ensure folder_path exists and is a directory\n",
        "        if not os.path.exists(folder_path) or not os.path.isdir(folder_path):\n",
        "            raise ValueError(f\"Provided folder path '{folder_path}' is not valid.\")\n",
        "\n",
        "        # List all image files in the directory\n",
        "        image_files = glob.glob(os.path.join(folder_path, '*'))\n",
        "\n",
        "        # Iterate over each file\n",
        "        for image_file in image_files:\n",
        "            # Load the image\n",
        "            image = cv2.imread(image_file)\n",
        "            if image is not None:\n",
        "                # Preprocess the image\n",
        "                preprocessed_image = self.preprocess(image)\n",
        "\n",
        "                # Augment the preprocessed image and save the augmented images to disk\n",
        "                self.augment_and_save(preprocessed_image, augmentations=augmentations)\n",
        "            else:\n",
        "                print(f\"Error loading image from {image_file}. Skipping this file.\")\n",
        "\n",
        "\n",
        "    def save_image(self, image, save_prefix='image', save_format='jpg'):\n",
        "        \"\"\"\n",
        "        Save the preprocessed (or augmented) image to disk in the directory specified by save_dir.\n",
        "        Generates a filename using a prefix and a timestamp.\n",
        "        :param image: 4D Numpy array, the image to save.\n",
        "        :param save_prefix: Prefix for generating the filename.\n",
        "        :param save_format: Image format (e.g., 'jpg', 'png').\n",
        "        \"\"\"\n",
        "        if self.save_dir is None:\n",
        "            raise ValueError(\"Save directory not specified.\")\n",
        "\n",
        "        # Ensure the save directory exists\n",
        "        if not os.path.exists(self.save_dir):\n",
        "            os.makedirs(self.save_dir, exist_ok=True)\n",
        "\n",
        "        # Generate a unique filename using the prefix and the current timestamp\n",
        "        timestamp = int(time.time() * 1e6)  # Microsecond timestamp to ensure uniqueness\n",
        "        filename = f\"{save_prefix}_{timestamp}.{save_format}\"\n",
        "        file_path = os.path.join(self.save_dir, filename)\n",
        "\n",
        "        # Remove batch dimension if present\n",
        "        if image.shape[0] == 1:\n",
        "            image = image.squeeze(0)\n",
        "\n",
        "        # Normalize and convert color space if necessary\n",
        "        if self.normalization:\n",
        "            image = (image * 255).astype(np.uint8)\n",
        "        if image.ndim == 2 or image.shape[-1] == 1:\n",
        "            image = cv2.cvtColor(image, cv2.COLOR_GRAY2BGR)\n",
        "\n",
        "        # Save the image\n",
        "        cv2.imwrite(file_path, image)\n",
        "        print(f\"Image saved to {file_path}\")\n",
        "\n",
        "\n"
      ],
      "metadata": {
        "id": "OEpw50fleGgD"
      },
      "execution_count": 1,
      "outputs": []
    },
    {
      "cell_type": "markdown",
      "source": [
        "Using Augmentation\n"
      ],
      "metadata": {
        "id": "Skn2n5lQk572"
      }
    },
    {
      "cell_type": "code",
      "source": [
        "import cv2\n",
        "\n",
        "# Path to your training image\n",
        "image_path = '/content/drive/MyDrive/Colab Notebooks/Group_Project/Input_Images/test/frame_00_06_0019.png'\n",
        "\n",
        "# Initialize the preprocessor with augmentation enabled for training\n",
        "preprocessor = HandGesturePreprocessor(\n",
        "    target_size=(224, 224),\n",
        "    normalization=True,\n",
        "    use_edge_detection=True,  # Edge detection could be enabled based on your needs\n",
        "    enable_augmentation=True,\n",
        "    save_dir='/content/drive/MyDrive/Colab Notebooks/Group_Project/Output_Images/Augmented_Images/test'  # Ensure this directory exists\n",
        ")\n",
        "\n",
        "# Load the training image\n",
        "image = cv2.imread(image_path)\n",
        "if image is not None:\n",
        "    # Preprocess the image\n",
        "    preprocessed_image = preprocessor.preprocess(image)\n",
        "\n",
        "    # Augment the preprocessed image and save the augmented images to disk\n",
        "    preprocessor.augment_and_save(preprocessed_image, augmentations=10)\n",
        "else:\n",
        "    print(f\"Error loading image from {image_path}. Please check the path.\")\n"
      ],
      "metadata": {
        "id": "ldOTVGuOf9wH"
      },
      "execution_count": 2,
      "outputs": []
    },
    {
      "cell_type": "markdown",
      "source": [
        "Without Augmentation"
      ],
      "metadata": {
        "id": "rH4MUxFrk_mH"
      }
    },
    {
      "cell_type": "code",
      "source": [
        "import cv2\n",
        "\n",
        "# Path to your validation/testing image\n",
        "image_path = '/content/drive/MyDrive/Colab Notebooks/Group_Project/Input_Images/elena-rabkina-QH8aF3B0gYQ-unsplash.jpg'\n",
        "\n",
        "# Initialize the preprocessor without augmentation for validation/testing\n",
        "preprocessor_wo = HandGesturePreprocessor(\n",
        "    target_size=(224, 224),\n",
        "    normalization=True,\n",
        "    use_edge_detection=False,  # This can be true if you want to use edge detection\n",
        "    enable_augmentation=False,  # Important for validation/testing\n",
        "    save_dir='/content/drive/MyDrive/Colab Notebooks/Group_Project/Output_Images/Without_Augmentation'\n",
        ")\n",
        "\n",
        "# Load the validation/testing image\n",
        "image = cv2.imread(image_path)\n",
        "if image is not None:\n",
        "    # Preprocess the image without augmentation\n",
        "    preprocessed_image = preprocessor_wo.preprocess(image)\n",
        "\n",
        "    # Optionally save the preprocessed image for inspection\n",
        "    #save_path = '/content/drive/MyDrive/Colab Notebooks/Group_Project/Output_Images/Without_Augmentation.jpg'\n",
        "    preprocessor_wo.save_image(preprocessed_image,)\n",
        "else:\n",
        "    print(f\"Error loading image from {image_path}. Please check the path.\")\n"
      ],
      "metadata": {
        "colab": {
          "base_uri": "https://localhost:8080/"
        },
        "id": "cjnVUZZmlKA_",
        "outputId": "5ac3cca8-991c-4c3b-b05e-3a39b568a3e0"
      },
      "execution_count": null,
      "outputs": [
        {
          "output_type": "stream",
          "name": "stdout",
          "text": [
            "Image saved to /content/drive/MyDrive/Colab Notebooks/Group_Project/Output_Images/Without_Augmentation/image_1708066690423163.jpg\n"
          ]
        }
      ]
    },
    {
      "cell_type": "markdown",
      "source": [
        "With Augmentation for entire file"
      ],
      "metadata": {
        "id": "V8fkuHbByQTe"
      }
    },
    {
      "cell_type": "code",
      "source": [
        "import cv2\n",
        "import os\n",
        "\n",
        "image_folder_path = '/content/drive/MyDrive/Colab Notebooks/Group_Project/Input_Images/Thumbs Up/Thumbs up'\n",
        "preprocessor = HandGesturePreprocessor(\n",
        "    target_size=(224, 224),\n",
        "    normalization=True,\n",
        "    use_edge_detection=True,\n",
        "    enable_augmentation=True,\n",
        "    save_dir='/content/drive/MyDrive/Colab Notebooks/Group_Project/Output_Images/Augmented_Images/THUMBS_UP'\n",
        ")\n",
        "\n",
        "# Apply augmentation to all images in the specified folder\n",
        "preprocessor.augment_and_save_folder(image_folder_path, augmentations=10)\n"
      ],
      "metadata": {
        "id": "5QyCrgKkyNNX"
      },
      "execution_count": null,
      "outputs": []
    }
  ]
}